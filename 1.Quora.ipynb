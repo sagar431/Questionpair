{
 "cells": [
  {
   "cell_type": "markdown",
   "metadata": {
    "id": "jcB8JS-_s5Vq"
   },
   "source": [
    "![Quora-1.png](attachment:Quora-1.png)"
   ]
  },
  {
   "cell_type": "markdown",
   "metadata": {
    "id": "J6rnhr2Xs5Vs"
   },
   "source": [
    "<h1 style=\"text-align:center;font-size:30px;\" > Quora Question Pairs </h1>"
   ]
  },
  {
   "cell_type": "markdown",
   "metadata": {
    "id": "o9fciGc7s5Vu"
   },
   "source": [
    "<h1> 1. Business Problem </h1>"
   ]
  },
  {
   "cell_type": "markdown",
   "metadata": {
    "id": "LRzmxjKxs5Vw"
   },
   "source": [
    "<h2> 1.1 Description </h2>"
   ]
  },
  {
   "cell_type": "markdown",
   "metadata": {
    "id": "1nlaIYe9s5Vx"
   },
   "source": [
    "<p>Quora is a place to gain and share knowledge—about anything. It’s a platform to ask questions and connect with people who contribute unique insights and quality answers. This empowers people to learn from each other and to better understand the world.</p>\n",
    "<p>\n",
    "Over 100 million people visit Quora every month, so it's no surprise that many people ask similarly worded questions. Multiple questions with the same intent can cause seekers to spend more time finding the best answer to their question, and make writers feel they need to answer multiple versions of the same question. Quora values canonical questions because they provide a better experience to active seekers and writers, and offer more value to both of these groups in the long term.\n",
    "</p>\n",
    "<br>\n",
    "> Credits: Kaggle \n"
   ]
  },
  {
   "cell_type": "markdown",
   "metadata": {
    "id": "wdWP5SdFs5Vy"
   },
   "source": [
    "__ Problem Statement __\n",
    "- Identify which questions asked on Quora are duplicates of questions that have already been asked. \n",
    "- This could be useful to instantly provide answers to questions that have already been answered. \n",
    "- We are tasked with predicting whether a pair of questions are duplicates or not. "
   ]
  },
  {
   "cell_type": "markdown",
   "metadata": {
    "id": "34hYn911s5V0"
   },
   "source": [
    "<h2> 1.2 Sources/Useful Links</h2>"
   ]
  },
  {
   "cell_type": "markdown",
   "metadata": {
    "id": "7YIjqVPgs5V4"
   },
   "source": [
    "- Source : https://www.kaggle.com/c/quora-question-pairs\n",
    "<br><br>____ Useful Links ____\n",
    "- Discussions : https://www.kaggle.com/anokas/data-analysis-xgboost-starter-0-35460-lb/comments\n",
    "- Kaggle Winning Solution and other approaches: https://www.dropbox.com/sh/93968nfnrzh8bp5/AACZdtsApc1QSTQc7X0H3QZ5a?dl=0\n",
    "- Blog 1 : https://engineering.quora.com/Semantic-Question-Matching-with-Deep-Learning\n",
    "- Blog 2 : https://towardsdatascience.com/identifying-duplicate-questions-on-quora-top-12-on-kaggle-4c1cf93f1c30"
   ]
  },
  {
   "cell_type": "markdown",
   "metadata": {
    "id": "jlNRUR4Ws5V5"
   },
   "source": [
    "<h2>1.3 Real world/Business Objectives and Constraints </h2>"
   ]
  },
  {
   "cell_type": "markdown",
   "metadata": {
    "id": "Hv6fd7txs5V7"
   },
   "source": [
    "1. The cost of a mis-classification can be very high.\n",
    "2. You would want a probability of a pair of questions to be duplicates so that you can choose any threshold of choice.\n",
    "3. No strict latency concerns.\n",
    "4. Interpretability is partially important."
   ]
  },
  {
   "cell_type": "markdown",
   "metadata": {
    "id": "VIam5Aaks5V9"
   },
   "source": [
    "<h1>2. Machine Learning Probelm </h1>"
   ]
  },
  {
   "cell_type": "markdown",
   "metadata": {
    "id": "jnty9Bhls5V-"
   },
   "source": [
    "<h2> 2.1 Data </h2>"
   ]
  },
  {
   "cell_type": "markdown",
   "metadata": {
    "id": "rty1PZv3s5V_"
   },
   "source": [
    "<h3> 2.1.1 Data Overview </h3>"
   ]
  },
  {
   "cell_type": "markdown",
   "metadata": {
    "id": "-gu8pAt3s5WB"
   },
   "source": [
    "<p> \n",
    "- Data will be in a file Train.csv <br>\n",
    "- Train.csv contains 5 columns : qid1, qid2, question1, question2, is_duplicate <br>\n",
    "- Size of Train.csv - 60MB <br>\n",
    "- Number of rows in Train.csv = 404,290\n",
    "</p>"
   ]
  },
  {
   "cell_type": "markdown",
   "metadata": {
    "id": "v9grbSNds5WC"
   },
   "source": [
    "<h3> 2.1.2 Example Data point </h3>"
   ]
  },
  {
   "cell_type": "markdown",
   "metadata": {
    "id": "9WEQ-lSxs5WE"
   },
   "source": [
    "<pre>\n",
    "\"id\",\"qid1\",\"qid2\",\"question1\",\"question2\",\"is_duplicate\"\n",
    "\"0\",\"1\",\"2\",\"What is the step by step guide to invest in share market in india?\",\"What is the step by step guide to invest in share market?\",\"0\"\n",
    "\"1\",\"3\",\"4\",\"What is the story of Kohinoor (Koh-i-Noor) Diamond?\",\"What would happen if the Indian government stole the Kohinoor (Koh-i-Noor) diamond back?\",\"0\"\n",
    "\"7\",\"15\",\"16\",\"How can I be a good geologist?\",\"What should I do to be a great geologist?\",\"1\"\n",
    "\"11\",\"23\",\"24\",\"How do I read and find my YouTube comments?\",\"How can I see all my Youtube comments?\",\"1\"\n",
    "</pre>"
   ]
  },
  {
   "cell_type": "markdown",
   "metadata": {
    "id": "9qPVfeEjs5WF"
   },
   "source": [
    "<h2> 2.2 Mapping the real world problem to an ML problem </h2>"
   ]
  },
  {
   "cell_type": "markdown",
   "metadata": {
    "id": "JfBn0LYPs5WI"
   },
   "source": [
    "<h3> 2.2.1 Type of Machine Leaning Problem </h3>"
   ]
  },
  {
   "cell_type": "markdown",
   "metadata": {
    "id": "QEqiUD_Ps5WJ"
   },
   "source": [
    "<p> It is a binary classification problem, for a given pair of questions we need to predict if they are duplicate or not. </p>"
   ]
  },
  {
   "cell_type": "markdown",
   "metadata": {
    "id": "keZOL1las5WL"
   },
   "source": [
    "<h3> 2.2.2 Performance Metric </h3>"
   ]
  },
  {
   "cell_type": "markdown",
   "metadata": {
    "id": "YHktaBrMs5WN"
   },
   "source": [
    "Source: https://www.kaggle.com/c/quora-question-pairs#evaluation\n",
    "\n",
    "Metric(s): \n",
    "* log-loss : https://www.kaggle.com/wiki/LogarithmicLoss\n",
    "* Binary Confusion Matrix"
   ]
  },
  {
   "cell_type": "markdown",
   "metadata": {},
   "source": [
    "Log loss, also known as logistic loss or cross-entropy loss, is a performance metric for binary classification models. It measures the uncertainty of the predicted probabilities for each instance by comparing them to the true class labels.\n",
    "\n",
    "The formula for log loss is:\n",
    "\n",
    "`-1/n * Σ(y * log(p) + (1 - y) * log(1 - p))`\n",
    "\n",
    "where `n` is the number of instances, `y` is the true class label (0 or 1), and `p` is the predicted probability of the instance belonging to class 1.\n",
    "\n",
    "The goal is to minimize the log loss, as a lower log loss indicates a better model. A perfect model would have a log loss of 0, while a random model would have a log loss of approximately 0.693.\n",
    "\n",
    "Is there anything else you would like to know?"
   ]
  },
  {
   "cell_type": "markdown",
   "metadata": {
    "id": "FmDMBWJjs5WO"
   },
   "source": [
    "<h2> 2.3 Train and Test Construction </h2>"
   ]
  },
  {
   "cell_type": "markdown",
   "metadata": {
    "id": "l7PcvKQss5WQ"
   },
   "source": [
    "<p>  </p>\n",
    "<p> We build train and test by randomly splitting in the ratio of 70:30 or 80:20 whatever we choose as we have sufficient points to work with. </p>"
   ]
  },
  {
   "cell_type": "markdown",
   "metadata": {},
   "source": [
    "Yes, it is common practice to split a dataset into training and test sets in order to evaluate the performance of a machine learning model. The training set is used to train the model, while the test set is used to evaluate its performance on unseen data.\n",
    "\n",
    "The ratio of the split can vary depending on the size of the dataset and the specific problem. A common approach is to use a 70:30 or 80:20 split, where 70% or 80% of the data is used for training and the remaining 30% or 20% is used for testing.\n",
    "\n",
    "It's important to ensure that the split is done randomly so that the training and test sets are representative of the overall dataset.\n",
    "\n",
    "Is there anything else you would like to know?"
   ]
  },
  {
   "cell_type": "markdown",
   "metadata": {},
   "source": [
    "Yes, you can split your data based on a timestamp if your dataset contains a time-related feature. This is known as a **time-based split**.\n",
    "\n",
    "In a time-based split, you would first sort your data by the timestamp feature in chronological order. Then, you would split the data into training and test sets based on a specific point in time. For example, you could use data from before a certain date for training and data from after that date for testing.\n",
    "\n",
    "This approach can be useful when working with time series data or when the goal is to predict future events based on past data. It ensures that the model is trained on past data and evaluated on future data, which can provide a more realistic assessment of its performance.\n"
   ]
  },
  {
   "cell_type": "markdown",
   "metadata": {
    "id": "cW_MVIlps5WQ"
   },
   "source": [
    "<h1>3. Exploratory Data Analysis </h1>"
   ]
  },
  {
   "cell_type": "code",
   "execution_count": 3,
   "metadata": {
    "colab": {
     "base_uri": "https://localhost:8080/",
     "height": 363
    },
    "executionInfo": {
     "elapsed": 4281,
     "status": "error",
     "timestamp": 1601543687885,
     "user": {
      "displayName": "Applied AI Course",
      "photoUrl": "https://lh3.googleusercontent.com/a-/AOh14GjjpR94Niu_srJxsFT_3bp9vDfqrjd2Zx94jDQdMg=s64",
      "userId": "06629147635963609455"
     },
     "user_tz": -330
    },
    "id": "sNzZdmBJs5WS",
    "outputId": "3730bd6f-8a0d-4213-cd3f-ee65d25f7c09"
   },
   "outputs": [
    {
     "data": {
      "text/html": [
       "        <script type=\"text/javascript\">\n",
       "        window.PlotlyConfig = {MathJaxConfig: 'local'};\n",
       "        if (window.MathJax) {MathJax.Hub.Config({SVG: {font: \"STIX-Web\"}});}\n",
       "        if (typeof require !== 'undefined') {\n",
       "        require.undef(\"plotly\");\n",
       "        requirejs.config({\n",
       "            paths: {\n",
       "                'plotly': ['https://cdn.plot.ly/plotly-2.9.0.min']\n",
       "            }\n",
       "        });\n",
       "        require(['plotly'], function(Plotly) {\n",
       "            window._Plotly = Plotly;\n",
       "        });\n",
       "        }\n",
       "        </script>\n",
       "        "
      ]
     },
     "metadata": {},
     "output_type": "display_data"
    }
   ],
   "source": [
    "import numpy as np\n",
    "import pandas as pd\n",
    "import seaborn as sns\n",
    "import matplotlib.pyplot as plt\n",
    "from subprocess import check_output\n",
    "%matplotlib inline\n",
    "import plotly.offline as py\n",
    "py.init_notebook_mode(connected=True)\n",
    "import plotly.graph_objs as go\n",
    "import plotly.tools as tls\n",
    "import os\n",
    "import gc\n",
    "\n",
    "import re\n",
    "from nltk.corpus import stopwords\n",
    "import distance\n",
    "from nltk.stem import PorterStemmer\n",
    "from bs4 import BeautifulSoup"
   ]
  },
  {
   "cell_type": "markdown",
   "metadata": {},
   "source": [
    "This code is importing several libraries and modules that are commonly used in data analysis and visualization. Here's a brief explanation of each line:\n",
    "\n",
    "1. `import numpy as np`: This line imports the NumPy library and assigns it the alias `np`. NumPy is a library for working with arrays of data.\n",
    "2. `import pandas as pd`: This line imports the Pandas library and assigns it the alias `pd`. Pandas is a library for data manipulation and analysis.\n",
    "3. `import seaborn as sns`: This line imports the Seaborn library and assigns it the alias `sns`. Seaborn is a library for statistical data visualization.\n",
    "4. `import matplotlib.pyplot as plt`: This line imports the Pyplot module from the Matplotlib library and assigns it the alias `plt`. Pyplot provides a MATLAB-like plotting framework.\n",
    "5. `from subprocess import check_output`: This line imports the `check_output` function from the `subprocess` module. This function allows you to run shell commands from within Python.\n",
    "6. `%matplotlib inline`: This line is a Jupyter Notebook magic command that allows Matplotlib plots to be displayed inline within the notebook.\n",
    "7. `import plotly.offline as py`: This line imports the Plotly Offline module and assigns it the alias `py`. Plotly is a library for creating interactive visualizations.\n",
    "8. `py.init_notebook_mode(connected=True)`: This line initializes Plotly's notebook mode, which allows Plotly plots to be displayed within Jupyter Notebooks.\n",
    "9. `import plotly.graph_objs as go`: This line imports the Graph Objects module from Plotly and assigns it the alias `go`. Graph Objects are used to create Plotly plots.\n",
    "10. `import plotly.tools as tls`: This line imports the Tools module from Plotly and assigns it the alias `tls`.\n",
    "11. `import os`: This line imports the OS module, which provides functions for interacting with the operating system.\n",
    "12. `import gc`: This line imports the Garbage Collector module, which provides functions for managing memory in Python.\n",
    "13. `import re`: This line imports the Regular Expression module, which provides functions for working with regular expressions.\n",
    "14. `from nltk.corpus import stopwords`: This line imports the stopwords corpus from NLTK (Natural Language Toolkit). Stopwords are common words that are often removed from text data during preprocessing.\n",
    "15. `import distance`: This line imports the Distance module, which provides functions for calculating distances between strings.\n",
    "16. `from nltk.stem import PorterStemmer`: This line imports the PorterStemmer class from NLTK. A stemmer reduces words to their base or root form.\n",
    "17. `from bs4 import BeautifulSoup`: This line imports the BeautifulSoup class from BeautifulSoup4 (bs4). BeautifulSoup is a library for parsing HTML and XML documents.\n",
    "\n",
    "Is there anything else you would like to know?"
   ]
  },
  {
   "cell_type": "markdown",
   "metadata": {
    "id": "__T8jddGs5Wc"
   },
   "source": [
    "<h2> 3.1 Reading data and basic stats </h2>"
   ]
  },
  {
   "cell_type": "code",
   "execution_count": 4,
   "metadata": {
    "id": "ifM_s9rvs5Wd",
    "outputId": "2e17a7bc-9a5b-4c43-d35b-081cc9f92528"
   },
   "outputs": [
    {
     "name": "stdout",
     "output_type": "stream",
     "text": [
      "Number of data points: 404290\n"
     ]
    }
   ],
   "source": [
    "df = pd.read_csv(\"train.csv\")\n",
    "\n",
    "print(\"Number of data points:\",df.shape[0])"
   ]
  },
  {
   "cell_type": "markdown",
   "metadata": {},
   "source": [
    "This code reads a CSV file named \"train.csv\" into a Pandas DataFrame and then prints the number of data points (rows) in the DataFrame. Here's a brief explanation of each line:\n",
    "\n",
    "1. `df = pd.read_csv(\"train.csv\")`: This line uses the `read_csv` function from the Pandas library to read the \"train.csv\" file into a DataFrame. The resulting DataFrame is assigned to the variable `df`.\n",
    "2. `print(\"Number of data points:\",df.shape[0])`: This line prints a string followed by the number of rows in the DataFrame `df`. The `shape` attribute of a DataFrame returns a tuple representing the dimensions of the DataFrame. The first element of this tuple is the number of rows, so `df.shape[0]` returns the number of rows in `df`.\n",
    "\n",
    "Is there anything else you would like to know?"
   ]
  },
  {
   "cell_type": "code",
   "execution_count": 6,
   "metadata": {
    "id": "34zXGW8gs5Wj",
    "outputId": "ab7d570a-9eeb-477a-b7cb-663ff6fd04fa"
   },
   "outputs": [
    {
     "data": {
      "text/html": [
       "<div>\n",
       "<style scoped>\n",
       "    .dataframe tbody tr th:only-of-type {\n",
       "        vertical-align: middle;\n",
       "    }\n",
       "\n",
       "    .dataframe tbody tr th {\n",
       "        vertical-align: top;\n",
       "    }\n",
       "\n",
       "    .dataframe thead th {\n",
       "        text-align: right;\n",
       "    }\n",
       "</style>\n",
       "<table border=\"1\" class=\"dataframe\">\n",
       "  <thead>\n",
       "    <tr style=\"text-align: right;\">\n",
       "      <th></th>\n",
       "      <th>id</th>\n",
       "      <th>qid1</th>\n",
       "      <th>qid2</th>\n",
       "      <th>question1</th>\n",
       "      <th>question2</th>\n",
       "      <th>is_duplicate</th>\n",
       "    </tr>\n",
       "  </thead>\n",
       "  <tbody>\n",
       "    <tr>\n",
       "      <th>0</th>\n",
       "      <td>0</td>\n",
       "      <td>1</td>\n",
       "      <td>2</td>\n",
       "      <td>What is the step by step guide to invest in sh...</td>\n",
       "      <td>What is the step by step guide to invest in sh...</td>\n",
       "      <td>0</td>\n",
       "    </tr>\n",
       "    <tr>\n",
       "      <th>1</th>\n",
       "      <td>1</td>\n",
       "      <td>3</td>\n",
       "      <td>4</td>\n",
       "      <td>What is the story of Kohinoor (Koh-i-Noor) Dia...</td>\n",
       "      <td>What would happen if the Indian government sto...</td>\n",
       "      <td>0</td>\n",
       "    </tr>\n",
       "    <tr>\n",
       "      <th>2</th>\n",
       "      <td>2</td>\n",
       "      <td>5</td>\n",
       "      <td>6</td>\n",
       "      <td>How can I increase the speed of my internet co...</td>\n",
       "      <td>How can Internet speed be increased by hacking...</td>\n",
       "      <td>0</td>\n",
       "    </tr>\n",
       "    <tr>\n",
       "      <th>3</th>\n",
       "      <td>3</td>\n",
       "      <td>7</td>\n",
       "      <td>8</td>\n",
       "      <td>Why am I mentally very lonely? How can I solve...</td>\n",
       "      <td>Find the remainder when [math]23^{24}[/math] i...</td>\n",
       "      <td>0</td>\n",
       "    </tr>\n",
       "    <tr>\n",
       "      <th>4</th>\n",
       "      <td>4</td>\n",
       "      <td>9</td>\n",
       "      <td>10</td>\n",
       "      <td>Which one dissolve in water quikly sugar, salt...</td>\n",
       "      <td>Which fish would survive in salt water?</td>\n",
       "      <td>0</td>\n",
       "    </tr>\n",
       "  </tbody>\n",
       "</table>\n",
       "</div>"
      ],
      "text/plain": [
       "   id  qid1  qid2                                          question1  \\\n",
       "0   0     1     2  What is the step by step guide to invest in sh...   \n",
       "1   1     3     4  What is the story of Kohinoor (Koh-i-Noor) Dia...   \n",
       "2   2     5     6  How can I increase the speed of my internet co...   \n",
       "3   3     7     8  Why am I mentally very lonely? How can I solve...   \n",
       "4   4     9    10  Which one dissolve in water quikly sugar, salt...   \n",
       "\n",
       "                                           question2  is_duplicate  \n",
       "0  What is the step by step guide to invest in sh...             0  \n",
       "1  What would happen if the Indian government sto...             0  \n",
       "2  How can Internet speed be increased by hacking...             0  \n",
       "3  Find the remainder when [math]23^{24}[/math] i...             0  \n",
       "4            Which fish would survive in salt water?             0  "
      ]
     },
     "execution_count": 6,
     "metadata": {},
     "output_type": "execute_result"
    }
   ],
   "source": [
    "df.head()"
   ]
  },
  {
   "cell_type": "code",
   "execution_count": 7,
   "metadata": {
    "id": "mx4DFwMns5Wp",
    "outputId": "1141e0bb-2750-489e-8b8c-2ba680f7416c"
   },
   "outputs": [
    {
     "name": "stdout",
     "output_type": "stream",
     "text": [
      "<class 'pandas.core.frame.DataFrame'>\n",
      "RangeIndex: 404290 entries, 0 to 404289\n",
      "Data columns (total 6 columns):\n",
      " #   Column        Non-Null Count   Dtype \n",
      "---  ------        --------------   ----- \n",
      " 0   id            404290 non-null  int64 \n",
      " 1   qid1          404290 non-null  int64 \n",
      " 2   qid2          404290 non-null  int64 \n",
      " 3   question1     404289 non-null  object\n",
      " 4   question2     404288 non-null  object\n",
      " 5   is_duplicate  404290 non-null  int64 \n",
      "dtypes: int64(4), object(2)\n",
      "memory usage: 18.5+ MB\n"
     ]
    }
   ],
   "source": [
    "df.info()"
   ]
  },
  {
   "cell_type": "markdown",
   "metadata": {},
   "source": [
    "This appears to be the output of the `df.info()` command for a Pandas DataFrame named `df`. The output provides a summary of the DataFrame, including information about its size, columns, data types, and memory usage.\n",
    "\n",
    "From the output, we can see that the DataFrame has 404290 rows and 6 columns. The columns are named `id`, `qid1`, `qid2`, `question1`, `question2`, and `is_duplicate`. The data types of the columns are `int64` for the first four columns (`id`, `qid1`, `qid2`, and `is_duplicate`) and `object` for the last two columns (`question1` and `question2`).\n",
    "\n",
    "The output also shows that there is one missing value in the `question1` column and two missing values in the `question2` column. The memory usage of the DataFrame is 18.5+ MB.\n",
    "\n"
   ]
  },
  {
   "cell_type": "markdown",
   "metadata": {
    "id": "HHHTGTzws5Ww"
   },
   "source": [
    "We are given a minimal number of data fields here, consisting of:\n",
    "\n",
    "- id:  Looks like a simple rowID\n",
    "- qid{1, 2}:  The unique ID of each question in the pair\n",
    "- question{1, 2}:  The actual textual contents of the questions.\n",
    "- is_duplicate:  The label that we are trying to predict - whether the two questions are duplicates of each other."
   ]
  },
  {
   "cell_type": "markdown",
   "metadata": {
    "id": "ZulqVzTDs5Wx"
   },
   "source": [
    "<h3> 3.2.1 Distribution of data points among output classes</h3>\n",
    "- Number of duplicate(smilar) and non-duplicate(non similar) questions"
   ]
  },
  {
   "cell_type": "code",
   "execution_count": 8,
   "metadata": {
    "id": "YHp64yNjs5Wx",
    "outputId": "361ddf04-d545-45f9-dbe2-8bebd695e8da"
   },
   "outputs": [
    {
     "data": {
      "text/plain": [
       "<AxesSubplot:xlabel='is_duplicate'>"
      ]
     },
     "execution_count": 8,
     "metadata": {},
     "output_type": "execute_result"
    },
    {
     "data": {
      "image/png": "[encoded data removed]",
      "text/plain": [
       "<Figure size 432x288 with 1 Axes>"
      ]
     },
     "metadata": {
      "needs_background": "light"
     },
     "output_type": "display_data"
    }
   ],
   "source": [
    "df.groupby(\"is_duplicate\")['id'].count().plot.bar()"
   ]
  },
  {
   "cell_type": "markdown",
   "metadata": {},
   "source": [
    "This code uses the `groupby` method of a Pandas DataFrame named `df` to group the data by the values in the `is_duplicate` column. Then, it applies the `count` method to the `id` column of each group to count the number of rows in each group. Finally, it uses the `plot.bar` method to create a bar plot of the resulting counts.\n",
    "\n",
    "Here's a step-by-step explanation of what this code does:\n",
    "\n",
    "1. `df.groupby(\"is_duplicate\")`: This groups the rows of the DataFrame `df` by the values in the `is_duplicate` column. This creates a `DataFrameGroupBy` object.\n",
    "2. `['id']`: This selects the `id` column from each group in the `DataFrameGroupBy` object.\n",
    "3. `.count()`: This applies the `count` method to the selected column (`id`) in each group. This returns a Series containing the number of rows in each group.\n",
    "4. `.plot.bar()`: This creates a bar plot of the resulting counts using the `plot.bar` method of the Series.\n",
    "\n",
    "The resulting bar plot shows the number of rows in each group (i.e., the number of rows where `is_duplicate` is 0 and the number of rows where `is_duplicate` is 1).\n",
    "\n",
    "Is there anything else you would like to know?"
   ]
  },
  {
   "cell_type": "code",
   "execution_count": 7,
   "metadata": {
    "id": "-usI2K2bs5W4",
    "outputId": "ff0a6a8b-65ad-487a-d5ec-df3c223ba620"
   },
   "outputs": [
    {
     "name": "stdout",
     "output_type": "stream",
     "text": [
      "~> Total number of question pairs for training:\n",
      "   404290\n"
     ]
    }
   ],
   "source": [
    "print('~> Total number of question pairs for training:\\n   {}'.format(len(df)))"
   ]
  },
  {
   "cell_type": "code",
   "execution_count": 10,
   "metadata": {
    "id": "YiPia6Pjs5W_",
    "outputId": "3cde4cec-4314-4c14-e807-b35e969bf9e8"
   },
   "outputs": [
    {
     "name": "stdout",
     "output_type": "stream",
     "text": [
      "~> Question pairs are not Similar (is_duplicate = 0):\n",
      "   63.08%\n",
      "\n",
      "~> Question pairs are Similar (is_duplicate = 1):\n",
      "   36.92%\n"
     ]
    }
   ],
   "source": [
    "print('~> Question pairs are not Similar (is_duplicate = 0):\\n   {}%'.format(100 - round(df['is_duplicate'].mean()*100, 2)))\n",
    "print('\\n~> Question pairs are Similar (is_duplicate = 1):\\n   {}%'.format(round(df['is_duplicate'].mean()*100, 2)))"
   ]
  },
  {
   "cell_type": "markdown",
   "metadata": {},
   "source": [
    "This code calculates and prints the percentage of question pairs in a Pandas DataFrame named `df` that are labeled as similar (`is_duplicate` = 1) and not similar (`is_duplicate` = 0).\n",
    "\n",
    "Here's a step-by-step explanation of what this code does:\n",
    "\n",
    "1. `df['is_duplicate'].mean()`: This calculates the mean of the `is_duplicate` column in the DataFrame `df`. Since the `is_duplicate` column contains binary values (0 or 1), the mean represents the proportion of rows where `is_duplicate` is 1 (i.e., the proportion of question pairs that are labeled as similar).\n",
    "2. `round(df['is_duplicate'].mean()*100, 2)`: This multiplies the mean by 100 to convert it to a percentage and rounds it to two decimal places.\n",
    "3. `100 - round(df['is_duplicate'].mean()*100, 2)`: This subtracts the percentage of similar question pairs from 100 to calculate the percentage of not similar question pairs.\n",
    "4. `print('~> Question pairs are not Similar (is_duplicate = 0):\\n   {}%'.format(100 - round(df['is_duplicate'].mean()*100, 2)))`: This prints a formatted string containing the calculated percentage of not similar question pairs.\n",
    "5. `print('\\n~> Question pairs are Similar (is_duplicate = 1):\\n   {}%'.format(round(df['is_duplicate'].mean()*100, 2)))`: This prints a formatted string containing the calculated percentage of similar question pairs.\n",
    "\n",
    "The resulting output shows the percentage of question pairs in the DataFrame that are labeled as similar and not similar.\n",
    "\n",
    "Is there anything else you would like to know?"
   ]
  },
  {
   "cell_type": "markdown",
   "metadata": {
    "id": "wGX03QVRs5XF"
   },
   "source": [
    "<h3> 3.2.2 Number of unique questions </h3>"
   ]
  },
  {
   "cell_type": "code",
   "execution_count": 11,
   "metadata": {
    "id": "VOKa6aU2s5XG",
    "outputId": "8f644b1d-27c0-4d63-84e2-bb2a42419be2"
   },
   "outputs": [
    {
     "name": "stdout",
     "output_type": "stream",
     "text": [
      "Total number of  Unique Questions are: 537933\n",
      "\n",
      "Number of unique questions that appear more than one time: 111780 (20.77953945937505%)\n",
      "\n",
      "Max number of times a single question is repeated: 157\n",
      "\n"
     ]
    }
   ],
   "source": [
    "qids = pd.Series(df['qid1'].tolist() + df['qid2'].tolist())\n",
    "unique_qs = len(np.unique(qids))\n",
    "qs_morethan_onetime = np.sum(qids.value_counts() > 1)\n",
    "print ('Total number of  Unique Questions are: {}\\n'.format(unique_qs))\n",
    "#print len(np.unique(qids))\n",
    "\n",
    "print ('Number of unique questions that appear more than one time: {} ({}%)\\n'.format(qs_morethan_onetime,qs_morethan_onetime/unique_qs*100))\n",
    "\n",
    "print ('Max number of times a single question is repeated: {}\\n'.format(max(qids.value_counts()))) \n",
    "\n",
    "q_vals=qids.value_counts()\n",
    "\n",
    "q_vals=q_vals.values"
   ]
  },
  {
   "cell_type": "markdown",
   "metadata": {},
   "source": [
    "This code performs several calculations on a Pandas DataFrame named `df` to obtain information about the questions in the `qid1` and `qid2` columns. It calculates the total number of unique questions, the number of unique questions that appear more than once, and the maximum number of times a single question is repeated. The results of these calculations are then printed.\n",
    "\n",
    "Here's a step-by-step explanation of what this code does:\n",
    "\n",
    "1. `qids = pd.Series(df['qid1'].tolist() + df['qid2'].tolist())`: This concatenates the values in the `qid1` and `qid2` columns of the DataFrame `df` into a single Pandas Series named `qids`.\n",
    "2. `unique_qs = len(np.unique(qids))`: This calculates the number of unique values in the `qids` Series using the `unique` function from NumPy and assigns the result to the variable `unique_qs`.\n",
    "3. `qs_morethan_onetime = np.sum(qids.value_counts() > 1)`: This calculates the number of unique values in the `qids` Series that appear more than once. The `value_counts` method of the Series returns a Series containing counts of unique values. The resulting Series is then compared to 1 using the `>` operator to create a boolean mask. The mask is passed to the `sum` function from NumPy to count the number of `True` values, which represents the number of unique values that appear more than once. The result is assigned to the variable `qs_morethan_onetime`.\n",
    "4. `print ('Total number of  Unique Questions are: {}\\n'.format(unique_qs))`: This prints a formatted string containing the calculated number of unique questions.\n",
    "5. `print ('Number of unique questions that appear more than one time: {} ({}%)\\n'.format(qs_morethan_onetime,qs_morethan_onetime/unique_qs*100))`: This prints a formatted string containing the calculated number of unique questions that appear more than once and their percentage out of all unique questions.\n",
    "6. `print ('Max number of times a single question is repeated: {}\\n'.format(max(qids.value_counts())))`: This prints a formatted string containing the maximum number of times a single question is repeated. The maximum value is obtained by applying the `max` function to the result of the `value_counts` method applied to the `qids` Series.\n",
    "7. `q_vals=qids.value_counts()`: This calculates the counts of unique values in the `qids` Series using the `value_counts` method and assigns the resulting Series to the variable `q_vals`.\n",
    "8. `q_vals=q_vals.values`: This extracts the values from the `q_vals` Series and assigns them to the same variable.\n"
   ]
  },
  {
   "cell_type": "code",
   "execution_count": 13,
   "metadata": {
    "id": "plcvbd4Cs5XM",
    "outputId": "8e137cc1-e0c4-44f4-9cc2-703302206d4f"
   },
   "outputs": [
    {
     "data": {
      "image/png": "[encoded data removed]",
      "text/plain": [
       "<Figure size 720x432 with 1 Axes>"
      ]
     },
     "metadata": {
      "needs_background": "light"
     },
     "output_type": "display_data"
    }
   ],
   "source": [
    "\n",
    "x = [\"unique_questions\" , \"Repeated Questions\"]\n",
    "y =  [unique_qs , qs_morethan_onetime]\n",
    "\n",
    "plt.figure(figsize=(10, 6))\n",
    "plt.title (\"Plot representing unique and repeated questions  \")\n",
    "sns.barplot(x=x,y=y)\n",
    "plt.show()"
   ]
  },
  {
   "cell_type": "markdown",
   "metadata": {},
   "source": [
    "This code creates a bar plot using the Seaborn library to visualize the number of unique and repeated questions in a dataset. The `unique_qs` and `qs_morethan_onetime` variables, which were calculated earlier in the code, are used to represent the number of unique and repeated questions, respectively.\n",
    "\n",
    "Here's a step-by-step explanation of what this code does:\n",
    "\n",
    "1. `x = [\"unique_questions\" , \"Repeated Questions\"]`: This creates a list of strings representing the categories to be plotted on the x-axis of the bar plot.\n",
    "2. `y =  [unique_qs , qs_morethan_onetime]`: This creates a list of values representing the counts to be plotted on the y-axis of the bar plot. The values are obtained from the `unique_qs` and `qs_morethan_onetime` variables calculated earlier in the code.\n",
    "3. `plt.figure(figsize=(10, 6))`: This creates a new Matplotlib figure with a specified size using the `figure` function from the Pyplot module of Matplotlib.\n",
    "4. `plt.title (\"Plot representing unique and repeated questions  \")`: This sets the title of the plot using the `title` function from Pyplot.\n",
    "5. `sns.barplot(x=x,y=y)`: This creates a bar plot using the `barplot` function from Seaborn. The `x` and `y` arguments specify the data to be plotted on the x"
   ]
  },
  {
   "cell_type": "markdown",
   "metadata": {
    "id": "G-CwGaMms5XS"
   },
   "source": [
    "<h3>3.2.3 Checking for Duplicates </h3>"
   ]
  },
  {
   "cell_type": "code",
   "execution_count": 14,
   "metadata": {
    "id": "YCiDBHm5s5XT",
    "outputId": "d8011926-4086-4c9a-9fcf-59663a584ec4"
   },
   "outputs": [
    {
     "name": "stdout",
     "output_type": "stream",
     "text": [
      "Number of duplicate questions 0\n"
     ]
    }
   ],
   "source": [
    "#checking whether there are any repeated pair of questions\n",
    "\n",
    "pair_duplicates = df[['qid1','qid2','is_duplicate']].groupby(['qid1','qid2']).count().reset_index()\n",
    "\n",
    "print (\"Number of duplicate questions\",(pair_duplicates).shape[0] - df.shape[0])"
   ]
  },
  {
   "cell_type": "markdown",
   "metadata": {},
   "source": [
    "This code checks for the presence of duplicate question pairs in a Pandas DataFrame named `df`. It does this by grouping the data by the values in the `qid1` and `qid2` columns and counting the number of rows in each group. The result is then compared to the number of rows in the original DataFrame to determine if there are any duplicate question pairs.\n",
    "\n",
    "Here's a step-by-step explanation of what this code does:\n",
    "\n",
    "1. `pair_duplicates = df[['qid1','qid2','is_duplicate']].groupby(['qid1','qid2']).count().reset_index()`: This selects the `qid1`, `qid2`, and `is_duplicate` columns from the DataFrame `df` and groups the resulting DataFrame by the values in the `qid1` and `qid2` columns. The `count` method is then applied to each group to count the number of rows. The resulting DataFrame is then flattened using the `reset_index` method and assigned to the variable `pair_duplicates`.\n",
    "2. `print (\"Number of duplicate questions\",(pair_duplicates).shape[0] - df.shape[0])`: This calculates the difference between the number of rows in the `pair_duplicates` DataFrame and the original `df` DataFrame. Since each row in the `pair_duplicates` DataFrame represents a unique pair of questions, this difference represents the number of duplicate question pairs in the original DataFrame. The result is then printed.\n",
    "\n",
    "If there are no duplicate question pairs in the original DataFrame, then the calculated difference will be 0.\n"
   ]
  },
  {
   "cell_type": "markdown",
   "metadata": {
    "id": "iaHTnnt8s5XX"
   },
   "source": [
    "<h3> 3.2.4 Number of occurrences of each question </h3>"
   ]
  },
  {
   "cell_type": "code",
   "execution_count": 17,
   "metadata": {
    "id": "dPZwk-C8s5Xa",
    "outputId": "0d6d5978-2306-4ed3-cf27-f2a0b974e47d"
   },
   "outputs": [
    {
     "name": "stdout",
     "output_type": "stream",
     "text": [
      "Maximum number of times a single question is repeated: 157\n",
      "\n"
     ]
    },
    {
     "data": {
      "image/png": "[encoded data removed]",
      "text/plain": [
       "<Figure size 1440x720 with 1 Axes>"
      ]
     },
     "metadata": {
      "needs_background": "light"
     },
     "output_type": "display_data"
    }
   ],
   "source": [
    "plt.figure(figsize=(20, 10))\n",
    "\n",
    "plt.hist(qids.value_counts(), bins=160)\n",
    "\n",
    "plt.yscale('log', nonpositive='clip')\n",
    "\n",
    "plt.title('Log-Histogram of question appearance counts')\n",
    "\n",
    "plt.xlabel('Number of occurences of question')\n",
    "\n",
    "plt.ylabel('Number of questions')\n",
    "\n",
    "print ('Maximum number of times a single question is repeated: {}\\n'.format(max(qids.value_counts()))) "
   ]
  },
  {
   "cell_type": "markdown",
   "metadata": {},
   "source": [
    "This code creates a histogram using the Matplotlib library to visualize the distribution of the number of times each question appears in a Pandas Series named `qids`. The `qids` Series was created earlier in the code by concatenating the values in the `qid1` and `qid2` columns of a DataFrame.\n",
    "\n",
    "Here's a step-by-step explanation of what this code does:\n",
    "\n",
    "1. `plt.figure(figsize=(20, 10))`: This creates a new Matplotlib figure with a specified size using the `figure` function from the Pyplot module of Matplotlib.\n",
    "2. `plt.hist(qids.value_counts(), bins=160)`: This creates a histogram using the `hist` function from Pyplot. The data for the histogram is obtained by applying the `value_counts` method to the `qids` Series to calculate the counts of unique values. The `bins` argument specifies the number of bins to use in the histogram.\n",
    "3. `plt.yscale('log', nonpositive='clip')`: This sets the y-axis scale to logarithmic using the `yscale` function from Pyplot. The `nonpositive` argument specifies how to handle non-positive values.\n",
    "4. `plt.title('Log-Histogram of question appearance counts')`: This sets the title of the plot using the `title` function from Pyplot.\n",
    "5. `plt.xlabel('Number of occurences of question')`: This sets the label of the x-axis using the `xlabel` function from Pyplot.\n",
    "6. `plt.ylabel('Number of questions')`: This sets the label of the y-axis using the `ylabel` function from Pyplot.\n",
    "7. `print ('Maximum number of times a single question is repeated: {}\\n'.format(max(qids.value_counts())))`: This prints a formatted string containing the maximum number of times a single question is repeated. The maximum value is obtained by applying the `max` function to the result of the `value_counts` method applied to the `qids` Series.\n",
    "\n",
    "The resulting histogram shows the distribution of the number of times each question appears in the dataset.\n",
    "\n",
    "Is there anything else you would like to know?"
   ]
  },
  {
   "cell_type": "markdown",
   "metadata": {
    "id": "h_WdYxlYs5Xj"
   },
   "source": [
    "<h3> 3.2.5 Checking for NULL values </h3>"
   ]
  },
  {
   "cell_type": "code",
   "execution_count": 18,
   "metadata": {
    "id": "r0x1gR2fs5Xk",
    "outputId": "721aef48-e628-40c6-d567-25466f4283e1"
   },
   "outputs": [
    {
     "name": "stdout",
     "output_type": "stream",
     "text": [
      "            id    qid1    qid2                         question1  \\\n",
      "105780  105780  174363  174364    How can I develop android app?   \n",
      "201841  201841  303951  174364  How can I create an Android app?   \n",
      "363362  363362  493340  493341                               NaN   \n",
      "\n",
      "                                                question2  is_duplicate  \n",
      "105780                                                NaN             0  \n",
      "201841                                                NaN             0  \n",
      "363362  My Chinese name is Haichao Yu. What English na...             0  \n"
     ]
    }
   ],
   "source": [
    "#Checking whether there are any rows with null values\n",
    "nan_rows = df[df.isnull().any(1)]\n",
    "print (nan_rows)"
   ]
  },
  {
   "cell_type": "markdown",
   "metadata": {
    "id": "CCYmufv6s5Xo"
   },
   "source": [
    "- There are two rows with null values in question2 "
   ]
  },
  {
   "cell_type": "code",
   "execution_count": 19,
   "metadata": {
    "id": "yLBRyACgs5Xp",
    "outputId": "076046a9-1510-41ef-cf98-15b38661dca4"
   },
   "outputs": [
    {
     "name": "stdout",
     "output_type": "stream",
     "text": [
      "Empty DataFrame\n",
      "Columns: [id, qid1, qid2, question1, question2, is_duplicate]\n",
      "Index: []\n"
     ]
    }
   ],
   "source": [
    "# Filling the null values with ' '\n",
    "df = df.fillna('')\n",
    "nan_rows = df[df.isnull().any(1)]\n",
    "print (nan_rows)"
   ]
  },
  {
   "cell_type": "markdown",
   "metadata": {},
   "source": [
    "This code fills any missing values in a Pandas DataFrame named `df` with empty strings. It then checks for the presence of any remaining missing values and prints any rows that contain missing values.\n",
    "\n",
    "Here's a step-by-step explanation of what this code does:\n",
    "\n",
    "1. `df = df.fillna('')`: This fills any missing values in the DataFrame `df` with empty strings using the `fillna` method. The resulting DataFrame is assigned back to the variable `df`.\n",
    "2. `nan_rows = df[df.isnull().any(1)]`: This creates a boolean mask by applying the `isnull` method to the DataFrame `df` to check for missing values, followed by the `any` method with an argument of 1 to check for rows that contain at least one missing value. The resulting mask is used to index the DataFrame `df` to select only the rows that contain missing values. The resulting DataFrame is assigned to the variable `nan_rows`.\n",
    "3. `print (nan_rows)`: This prints the `nan_rows` DataFrame, which contains any rows from the original DataFrame that still contain missing values after filling.\n",
    "\n",
    "Since all missing values were filled with empty strings in the first step, the resulting `nan_rows` DataFrame should be empty.\n",
    "\n",
    "Is there anything else you would like to know?"
   ]
  },
  {
   "cell_type": "markdown",
   "metadata": {
    "id": "l9Qcl5xfs5Xs"
   },
   "source": [
    "<h2>3.3 Basic Feature Extraction (before cleaning) </h2>"
   ]
  },
  {
   "cell_type": "markdown",
   "metadata": {
    "id": "RRzvPYzGs5Xu"
   },
   "source": [
    "Let us now construct a few features like:\n",
    " - ____freq_qid1____ = Frequency of qid1's\n",
    " - ____freq_qid2____ = Frequency of qid2's \n",
    " - ____q1len____ = Length of q1\n",
    " - ____q2len____ = Length of q2\n",
    " - ____q1_n_words____ = Number of words in Question 1\n",
    " - ____q2_n_words____ = Number of words in Question 2\n",
    " - ____word_Common____ = (Number of common unique words in Question 1 and Question 2)\n",
    " - ____word_Total____ =(Total num of words in Question 1 + Total num of words in Question 2)\n",
    " - ____word_share____ = (word_common)/(word_Total)\n",
    " - ____freq_q1+freq_q2____ = sum total of frequency of qid1 and qid2 \n",
    " - ____freq_q1-freq_q2____ = absolute difference of frequency of qid1 and qid2 "
   ]
  },
  {
   "cell_type": "markdown",
   "metadata": {},
   "source": [
    "This text describes several features that can be constructed from a dataset containing pairs of questions. These features can be used to represent the data in a machine learning model. Here's a brief explanation of each feature:\n",
    "\n",
    "1. `freq_qid1`: This feature represents the frequency of the first question in each pair (`qid1`).\n",
    "2. `freq_qid2`: This feature represents the frequency of the second question in each pair (`qid2`).\n",
    "3. `q1len`: This feature represents the length of the first question in each pair (`question1`).\n",
    "4. `q2len`: This feature represents the length of the second question in each pair (`question2`).\n",
    "5. `q1_n_words`: This feature represents the number of words in the first question in each pair (`question1`).\n",
    "6. `q2_n_words`: This feature represents the number of words in the second question in each pair (`question2`).\n",
    "7. `word_Common`: This feature represents the number of common unique words between the two questions in each pair.\n",
    "8. `word_Total`: This feature represents the total number of words in both questions in each pair.\n",
    "9. `word_share`: This feature represents the ratio of common unique words to the total number of words in both questions.\n",
    "10. `freq_q1+freq_q2`: This feature represents the sum of the frequencies of the first and second questions in each pair (`qid1` and `qid2`).\n",
    "11. `freq_q1-freq_q2`: This feature represents the absolute difference between the frequencies of the first and second questions in each pair (`qid1` and `qid2`).\n",
    "\n",
    "These features can provide useful information about the relationship between the two questions in each pair and can help a machine learning model to predict whether they are duplicates or not.\n",
    "\n",
    "Is there anything else you would like to know?"
   ]
  },
  {
   "cell_type": "code",
   "execution_count": 20,
   "metadata": {
    "id": "Iq4DZ-rYs5Xv",
    "outputId": "d34e66da-d84b-49ea-8852-4beb9da688ba"
   },
   "outputs": [
    {
     "data": {
      "text/html": [
       "<div>\n",
       "<style scoped>\n",
       "    .dataframe tbody tr th:only-of-type {\n",
       "        vertical-align: middle;\n",
       "    }\n",
       "\n",
       "    .dataframe tbody tr th {\n",
       "        vertical-align: top;\n",
       "    }\n",
       "\n",
       "    .dataframe thead th {\n",
       "        text-align: right;\n",
       "    }\n",
       "</style>\n",
       "<table border=\"1\" class=\"dataframe\">\n",
       "  <thead>\n",
       "    <tr style=\"text-align: right;\">\n",
       "      <th></th>\n",
       "      <th>id</th>\n",
       "      <th>qid1</th>\n",
       "      <th>qid2</th>\n",
       "      <th>question1</th>\n",
       "      <th>question2</th>\n",
       "      <th>is_duplicate</th>\n",
       "      <th>freq_qid1</th>\n",
       "      <th>freq_qid2</th>\n",
       "      <th>q1len</th>\n",
       "      <th>q2len</th>\n",
       "      <th>q1_n_words</th>\n",
       "      <th>q2_n_words</th>\n",
       "      <th>word_Common</th>\n",
       "      <th>word_Total</th>\n",
       "      <th>word_share</th>\n",
       "      <th>freq_q1+q2</th>\n",
       "      <th>freq_q1-q2</th>\n",
       "    </tr>\n",
       "  </thead>\n",
       "  <tbody>\n",
       "    <tr>\n",
       "      <th>0</th>\n",
       "      <td>0</td>\n",
       "      <td>1</td>\n",
       "      <td>2</td>\n",
       "      <td>What is the step by step guide to invest in sh...</td>\n",
       "      <td>What is the step by step guide to invest in sh...</td>\n",
       "      <td>0</td>\n",
       "      <td>1</td>\n",
       "      <td>1</td>\n",
       "      <td>66</td>\n",
       "      <td>57</td>\n",
       "      <td>14</td>\n",
       "      <td>12</td>\n",
       "      <td>10.0</td>\n",
       "      <td>23.0</td>\n",
       "      <td>0.434783</td>\n",
       "      <td>2</td>\n",
       "      <td>0</td>\n",
       "    </tr>\n",
       "    <tr>\n",
       "      <th>1</th>\n",
       "      <td>1</td>\n",
       "      <td>3</td>\n",
       "      <td>4</td>\n",
       "      <td>What is the story of Kohinoor (Koh-i-Noor) Dia...</td>\n",
       "      <td>What would happen if the Indian government sto...</td>\n",
       "      <td>0</td>\n",
       "      <td>4</td>\n",
       "      <td>1</td>\n",
       "      <td>51</td>\n",
       "      <td>88</td>\n",
       "      <td>8</td>\n",
       "      <td>13</td>\n",
       "      <td>4.0</td>\n",
       "      <td>20.0</td>\n",
       "      <td>0.200000</td>\n",
       "      <td>5</td>\n",
       "      <td>3</td>\n",
       "    </tr>\n",
       "    <tr>\n",
       "      <th>2</th>\n",
       "      <td>2</td>\n",
       "      <td>5</td>\n",
       "      <td>6</td>\n",
       "      <td>How can I increase the speed of my internet co...</td>\n",
       "      <td>How can Internet speed be increased by hacking...</td>\n",
       "      <td>0</td>\n",
       "      <td>1</td>\n",
       "      <td>1</td>\n",
       "      <td>73</td>\n",
       "      <td>59</td>\n",
       "      <td>14</td>\n",
       "      <td>10</td>\n",
       "      <td>4.0</td>\n",
       "      <td>24.0</td>\n",
       "      <td>0.166667</td>\n",
       "      <td>2</td>\n",
       "      <td>0</td>\n",
       "    </tr>\n",
       "    <tr>\n",
       "      <th>3</th>\n",
       "      <td>3</td>\n",
       "      <td>7</td>\n",
       "      <td>8</td>\n",
       "      <td>Why am I mentally very lonely? How can I solve...</td>\n",
       "      <td>Find the remainder when [math]23^{24}[/math] i...</td>\n",
       "      <td>0</td>\n",
       "      <td>1</td>\n",
       "      <td>1</td>\n",
       "      <td>50</td>\n",
       "      <td>65</td>\n",
       "      <td>11</td>\n",
       "      <td>9</td>\n",
       "      <td>0.0</td>\n",
       "      <td>19.0</td>\n",
       "      <td>0.000000</td>\n",
       "      <td>2</td>\n",
       "      <td>0</td>\n",
       "    </tr>\n",
       "    <tr>\n",
       "      <th>4</th>\n",
       "      <td>4</td>\n",
       "      <td>9</td>\n",
       "      <td>10</td>\n",
       "      <td>Which one dissolve in water quikly sugar, salt...</td>\n",
       "      <td>Which fish would survive in salt water?</td>\n",
       "      <td>0</td>\n",
       "      <td>3</td>\n",
       "      <td>1</td>\n",
       "      <td>76</td>\n",
       "      <td>39</td>\n",
       "      <td>13</td>\n",
       "      <td>7</td>\n",
       "      <td>2.0</td>\n",
       "      <td>20.0</td>\n",
       "      <td>0.100000</td>\n",
       "      <td>4</td>\n",
       "      <td>2</td>\n",
       "    </tr>\n",
       "  </tbody>\n",
       "</table>\n",
       "</div>"
      ],
      "text/plain": [
       "   id  qid1  qid2                                          question1  \\\n",
       "0   0     1     2  What is the step by step guide to invest in sh...   \n",
       "1   1     3     4  What is the story of Kohinoor (Koh-i-Noor) Dia...   \n",
       "2   2     5     6  How can I increase the speed of my internet co...   \n",
       "3   3     7     8  Why am I mentally very lonely? How can I solve...   \n",
       "4   4     9    10  Which one dissolve in water quikly sugar, salt...   \n",
       "\n",
       "                                           question2  is_duplicate  freq_qid1  \\\n",
       "0  What is the step by step guide to invest in sh...             0          1   \n",
       "1  What would happen if the Indian government sto...             0          4   \n",
       "2  How can Internet speed be increased by hacking...             0          1   \n",
       "3  Find the remainder when [math]23^{24}[/math] i...             0          1   \n",
       "4            Which fish would survive in salt water?             0          3   \n",
       "\n",
       "   freq_qid2  q1len  q2len  q1_n_words  q2_n_words  word_Common  word_Total  \\\n",
       "0          1     66     57          14          12         10.0        23.0   \n",
       "1          1     51     88           8          13          4.0        20.0   \n",
       "2          1     73     59          14          10          4.0        24.0   \n",
       "3          1     50     65          11           9          0.0        19.0   \n",
       "4          1     76     39          13           7          2.0        20.0   \n",
       "\n",
       "   word_share  freq_q1+q2  freq_q1-q2  \n",
       "0    0.434783           2           0  \n",
       "1    0.200000           5           3  \n",
       "2    0.166667           2           0  \n",
       "3    0.000000           2           0  \n",
       "4    0.100000           4           2  "
      ]
     },
     "execution_count": 20,
     "metadata": {},
     "output_type": "execute_result"
    }
   ],
   "source": [
    "if os.path.isfile('df_fe_without_preprocessing_train.csv'):\n",
    "    df = pd.read_csv(\"df_fe_without_preprocessing_train.csv\",encoding='latin-1')\n",
    "else:\n",
    "    df['freq_qid1'] = df.groupby('qid1')['qid1'].transform('count') \n",
    "    df['freq_qid2'] = df.groupby('qid2')['qid2'].transform('count')\n",
    "    df['q1len'] = df['question1'].str.len() \n",
    "    df['q2len'] = df['question2'].str.len()\n",
    "    df['q1_n_words'] = df['question1'].apply(lambda row: len(row.split(\" \")))\n",
    "    df['q2_n_words'] = df['question2'].apply(lambda row: len(row.split(\" \")))\n",
    "\n",
    "    def normalized_word_Common(row):\n",
    "        w1 = set(map(lambda word: word.lower().strip(), row['question1'].split(\" \")))\n",
    "        w2 = set(map(lambda word: word.lower().strip(), row['question2'].split(\" \")))    \n",
    "        return 1.0 * len(w1 & w2)\n",
    "    df['word_Common'] = df.apply(normalized_word_Common, axis=1)\n",
    "\n",
    "    def normalized_word_Total(row):\n",
    "        w1 = set(map(lambda word: word.lower().strip(), row['question1'].split(\" \")))\n",
    "        w2 = set(map(lambda word: word.lower().strip(), row['question2'].split(\" \")))    \n",
    "        return 1.0 * (len(w1) + len(w2))\n",
    "    df['word_Total'] = df.apply(normalized_word_Total, axis=1)\n",
    "\n",
    "    def normalized_word_share(row):\n",
    "        w1 = set(map(lambda word: word.lower().strip(), row['question1'].split(\" \")))\n",
    "        w2 = set(map(lambda word: word.lower().strip(), row['question2'].split(\" \")))    \n",
    "        return 1.0 * len(w1 & w2)/(len(w1) + len(w2))\n",
    "    df['word_share'] = df.apply(normalized_word_share, axis=1)\n",
    "\n",
    "    df['freq_q1+q2'] = df['freq_qid1']+df['freq_qid2']\n",
    "    df['freq_q1-q2'] = abs(df['freq_qid1']-df['freq_qid2'])\n",
    "\n",
    "    df.to_csv(\"df_fe_without_preprocessing_train.csv\", index=False)\n",
    "\n",
    "df.head()"
   ]
  },
  {
   "cell_type": "markdown",
   "metadata": {},
   "source": [
    "Here is an explanation of the code line by line:\n",
    "\n",
    "1. `if os.path.isfile('df_fe_without_preprocessing_train.csv'):` This line checks if a file named `df_fe_without_preprocessing_train.csv` exists in the current working directory using the `isfile()` method from the `os.path` module.\n",
    "\n",
    "2. `df = pd.read_csv(\"df_fe_without_preprocessing_train.csv\",encoding='latin-1')` If the file exists, this line reads it into a DataFrame `df` using the `read_csv()` method from the `pandas` library. The `encoding` parameter is set to `'latin-1'`.\n",
    "\n",
    "3. `else:` If the file does not exist, the code enters the else block and performs several operations on the DataFrame `df`.\n",
    "\n",
    "4. `df['freq_qid1'] = df.groupby('qid1')['qid1'].transform('count')` This line creates a new column in the DataFrame named `freq_qid1`. The values in this column are calculated by grouping the rows in the DataFrame by the values in the `qid1` column and counting the number of occurrences of each value.\n",
    "\n",
    "5. `df['freq_qid2'] = df.groupby('qid2')['qid2'].transform('count')` This line is similar to the previous one but creates a new column named `freq_qid2` based on the values in the `qid2` column.\n",
    "\n",
    "6. `df['q1len'] = df['question1'].str.len()` This line creates a new column named `q1len` that contains the length of each string in the `question1` column.\n",
    "\n",
    "7. `df['q2len'] = df['question2'].str.len()` This line is similar to the previous one but creates a new column named `q2len` based on the values in the `question2` column.\n",
    "\n",
    "8. `df['q1_n_words'] = df['question1'].apply(lambda row: len(row.split(\" \")))` This line creates a new column named `q1_n_words` that contains the number of words in each string in the `question1` column. The number of words is calculated by splitting each string on spaces and counting the resulting list of words.\n",
    "\n",
    "9. `df['q2_n_words'] = df['question2'].apply(lambda row: len(row.split(\" \")))` This line is similar to the previous one but creates a new column named `q2_n_words` based on the values in the `question2` column.\n",
    "\n",
    "10-18. These lines define three functions: `normalized_word_Common()`, `normalized_word_Total()`, and `normalized_word_share()`. Each function takes a row of the DataFrame as input and returns a value based on calculations performed on that row. The first function calculates the number of common words between two questions, normalized by dividing by 1.0. The second function calculates the total number of words in two questions, normalized by dividing by 1.0. The third function calculates the normalized word share between two questions.\n",
    "\n",
    "19. `df['word_Common'] = df.apply(normalized_word_Common, axis=1)` This line applies the first function to each row of the DataFrame and stores the result in a new column named `word_Common`.\n",
    "\n",
    "20. `df['word_Total'] = df.apply(normalized_word_Total, axis=1)` This line applies the second function to each row of the DataFrame and stores the result in a new column named `word_Total`.\n",
    "\n",
    "21. `df['word_share'] = df.apply(normalized_word_share, axis=1)` This line applies the third function to each row of the DataFrame and stores the result in a new column named `word_share`.\n",
    "\n",
    "22. `df['freq_q1+q2'] = df['freq_qid1']+df['freq_qid2']` This line creates a new column named `"
   ]
  },
  {
   "cell_type": "markdown",
   "metadata": {},
   "source": []
  },
  {
   "cell_type": "markdown",
   "metadata": {
    "id": "-zLujovVs5X3"
   },
   "source": [
    "<h3> 3.3.1 Analysis of some of the extracted features </h3>"
   ]
  },
  {
   "cell_type": "markdown",
   "metadata": {
    "id": "zRIFQTkCs5X3"
   },
   "source": [
    "- Here are some questions have only one single words."
   ]
  },
  {
   "cell_type": "code",
   "execution_count": 21,
   "metadata": {
    "id": "jSS0X82Ds5X5",
    "outputId": "5dacd7b2-d955-4435-9639-f1c6acd9b580"
   },
   "outputs": [
    {
     "name": "stdout",
     "output_type": "stream",
     "text": [
      "Minimum length of the questions in question1 :  1\n",
      "Minimum length of the questions in question2 :  1\n",
      "Number of Questions with minimum length [question1] : 67\n",
      "Number of Questions with minimum length [question2] : 24\n"
     ]
    }
   ],
   "source": [
    "print (\"Minimum length of the questions in question1 : \" , min(df['q1_n_words']))\n",
    "\n",
    "print (\"Minimum length of the questions in question2 : \" , min(df['q2_n_words']))\n",
    "\n",
    "print (\"Number of Questions with minimum length [question1] :\", df[df['q1_n_words']== 1].shape[0])\n",
    "print (\"Number of Questions with minimum length [question2] :\", df[df['q2_n_words']== 1].shape[0])"
   ]
  },
  {
   "cell_type": "markdown",
   "metadata": {},
   "source": [
    "Here's a line by line explanation of the code you provided:\n",
    "\n",
    "```python\n",
    "print (\"Minimum length of the questions in question1 : \" , min(df['q1_n_words']))\n",
    "```\n",
    "This line prints the minimum length of the questions in column 'q1_n_words' of dataframe 'df'.\n",
    "\n",
    "```python\n",
    "print (\"Minimum length of the questions in question2 : \" , min(df['q2_n_words']))\n",
    "```\n",
    "This line prints the minimum length of the questions in column 'q2_n_words' of dataframe 'df'.\n",
    "\n",
    "```python\n",
    "print (\"Number of Questions with minimum length [question1] :\", df[df['q1_n_words']== 1].shape[0])\n",
    "```\n",
    "This line prints the number of questions with minimum length [question1] in column 'q1_n_words' of dataframe 'df'.\n",
    "\n",
    "```python\n",
    "print (\"Number of Questions with minimum length [question2] :\", df[df['q2_n_words']== 1].shape[0])\n",
    "```\n",
    "This line prints the number of questions with minimum length [question2] in column 'q2_n_words' of dataframe 'df'.\n",
    "\n"
   ]
  },
  {
   "cell_type": "markdown",
   "metadata": {
    "id": "kFzTIHW3s5YB"
   },
   "source": [
    "<h4> 3.3.1.1 Feature: word_share </h4>"
   ]
  },
  {
   "cell_type": "code",
   "execution_count": 23,
   "metadata": {
    "id": "s4rwGLFDs5YD",
    "outputId": "0103aaa0-3f5a-4eb4-cd22-164a57d7aef0"
   },
   "outputs": [
    {
     "data": {
      "image/png": "[encoded data removed]",
      "text/plain": [
       "<Figure size 864x576 with 2 Axes>"
      ]
     },
     "metadata": {
      "needs_background": "light"
     },
     "output_type": "display_data"
    }
   ],
   "source": [
    "plt.figure(figsize=(12, 8))\n",
    "\n",
    "plt.subplot(1,2,1)\n",
    "sns.violinplot(x = 'is_duplicate', y = 'word_share', data = df[0:])\n",
    "\n",
    "plt.subplot(1,2,2)\n",
    "sns.histplot(df[df['is_duplicate'] == 1.0]['word_share'][0:] , label = \"1\", color = 'red')\n",
    "sns.histplot(df[df['is_duplicate'] == 0.0]['word_share'][0:] , label = \"0\" , color = 'blue' )\n",
    "plt.show()"
   ]
  },
  {
   "cell_type": "markdown",
   "metadata": {},
   "source": [
    "This code is written in Python and uses the Seaborn library to create a violin plot and a histogram plot side by side. The first line sets the size of the figure to be 12 inches by 8 inches using `plt.figure(figsize=(12, 8))`. The next line creates a subplot with two plots side by side using `plt.subplot(1,2,1)`. The first plot is a violin plot created using `sns.violinplot(x = 'is_duplicate', y = 'word_share', data = df[0:])`. The second plot is a histogram plot created using `sns.histplot(df[df['is_duplicate'] == 1.0]['word_share'][0:] , label = \"1\", color = 'red') sns.histplot(df[df['is_duplicate'] == 0.0]['word_share'][0:] , label = \"0\" , color = 'blue' )`. Finally, `plt.show()` is used to display the plots¹².\n"
   ]
  },
  {
   "cell_type": "markdown",
   "metadata": {
    "id": "RcwMI4xps5YJ"
   },
   "source": [
    "- The distributions for normalized word_share have some overlap on the far right-hand side, i.e., there are quite a lot of questions with high word similarity\n",
    "- The average word share and Common no. of words of qid1 and qid2 is more when they are duplicate(Similar)"
   ]
  },
  {
   "cell_type": "markdown",
   "metadata": {
    "id": "K0AbOS65s5YL"
   },
   "source": [
    "<h4> 3.3.1.2 Feature: word_Common </h4>"
   ]
  },
  {
   "cell_type": "code",
   "execution_count": 25,
   "metadata": {
    "id": "_mCFvztcs5YM",
    "outputId": "008ac763-a832-4c11-88fa-5da52cdb9305"
   },
   "outputs": [
    {
     "data": {
      "image/png": "[encoded data removed]",
      "text/plain": [
       "<Figure size 864x576 with 2 Axes>"
      ]
     },
     "metadata": {
      "needs_background": "light"
     },
     "output_type": "display_data"
    }
   ],
   "source": [
    "plt.figure(figsize=(12, 8))\n",
    "\n",
    "plt.subplot(1,2,1)\n",
    "sns.violinplot(x = 'is_duplicate', y = 'word_Common', data = df[0:])\n",
    "\n",
    "plt.subplot(1,2,2)\n",
    "sns.histplot(df[df['is_duplicate'] == 1.0]['word_Common'][0:] , label = \"1\", color = 'red')\n",
    "sns.histplot(df[df['is_duplicate'] == 0.0]['word_Common'][0:] , label = \"0\" , color = 'blue' )\n",
    "plt.show()"
   ]
  },
  {
   "cell_type": "markdown",
   "metadata": {
    "id": "9Ej1ouEVs5YR"
   },
   "source": [
    "<p> The distributions of the word_Common feature in similar and non-similar questions are highly overlapping </p>"
   ]
  }
 ],
 "metadata": {
  "colab": {
   "name": "1.Quora.ipynb",
   "provenance": []
  },
  "kernelspec": {
   "display_name": "Python 3 (ipykernel)",
   "language": "python",
   "name": "python3"
  },
  "language_info": {
   "codemirror_mode": {
    "name": "ipython",
    "version": 3
   },
   "file_extension": ".py",
   "mimetype": "text/x-python",
   "name": "python",
   "nbconvert_exporter": "python",
   "pygments_lexer": "ipython3",
   "version": "3.9.12"
  }
 },
 "nbformat": 4,
 "nbformat_minor": 1
}
